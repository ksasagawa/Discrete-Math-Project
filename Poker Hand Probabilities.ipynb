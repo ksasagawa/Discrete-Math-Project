{
 "cells": [
  {
   "cell_type": "code",
   "execution_count": 38,
   "metadata": {},
   "outputs": [],
   "source": [
    "import math"
   ]
  },
  {
   "cell_type": "markdown",
   "metadata": {},
   "source": [
    "Poker Games and Probabilities\n",
    "========================="
   ]
  },
  {
   "cell_type": "markdown",
   "metadata": {},
   "source": [
    "Lets cover some basic poker hands and their probabilities. There are 2,589,960 different possible five card poker hands. Lets set up the notebook to calculate out every possible hand."
   ]
  },
  {
   "cell_type": "code",
   "execution_count": 1,
   "metadata": {},
   "outputs": [
    {
     "name": "stdout",
     "output_type": "stream",
     "text": [
      "['DA', 'D2', 'D3', 'D4', 'D5', 'D6', 'D7', 'D8', 'D9', 'D10', 'DJ', 'DQ', 'DK', 'CA', 'C2', 'C3', 'C4', 'C5', 'C6', 'C7', 'C8', 'C9', 'C10', 'CJ', 'CQ', 'CK', 'HA', 'H2', 'H3', 'H4', 'H5', 'H6', 'H7', 'H8', 'H9', 'H10', 'HJ', 'HQ', 'HK', 'SA', 'S2', 'S3', 'S4', 'S5', 'S6', 'S7', 'S8', 'S9', 'S10', 'SJ', 'SQ', 'SK']\n"
     ]
    }
   ],
   "source": [
    "suits = [\"D\", \"C\", \"H\", \"S\"] #Diamonds, Clubs, Hearts, Spades\n",
    "values = [\"A\",\"2\",\"3\",\"4\",\"5\",\"6\",\"7\",\"8\",\"9\",\"10\",\"J\",\"Q\",\"K\"] #Ace, 2-10, Jack, Queen, King\n",
    "cards = [] #Create an empty array to store all the cards\n",
    "\n",
    "for suit in suits:\n",
    "    for value in values:\n",
    "        cards.append(suit + value) #Add every card to the cards array in suit value format\n",
    "        \n",
    "print(cards) #Display every card in our deck"
   ]
  },
  {
   "cell_type": "markdown",
   "metadata": {},
   "source": [
    "We won't print out every possible hand, but we will count them"
   ]
  },
  {
   "cell_type": "code",
   "execution_count": 35,
   "metadata": {},
   "outputs": [
    {
     "name": "stdout",
     "output_type": "stream",
     "text": [
      "2598960\n",
      "Wall time: 1.57 s\n"
     ]
    }
   ],
   "source": [
    "%%time\n",
    "number_of_hands = 0 #Our counter for the total number of hands\n",
    "hands = [] #An array that stores every hand in it\n",
    "\n",
    "for i in range(52): #The first card in the hand\n",
    "    for j in range(i+1, 52): #The second card in the hand\n",
    "        for k in range(j+1, 52): #The third card in the hand\n",
    "            for l in range(k+1, 52): #The fourth card in the hand\n",
    "                for m in range (l+1, 52): #The fifth card in the hand\n",
    "                    number_of_hands += 1\n",
    "                    hands.append(cards[i]+cards[j]+cards[k]+cards[l]+cards[m])\n",
    "\n",
    "print(number_of_hands)"
   ]
  },
  {
   "cell_type": "markdown",
   "metadata": {},
   "source": [
    "This program manually counts the possible number of hands in 5 card poker. \n",
    "It does so like this:\n",
    "i is the first card in the deck which is added to the hand, DA\n",
    "j is the second card in the deck, D2\n",
    "k is D3\n",
    "l is D4\n",
    "m is D5\n",
    "So our first hand is DA, D2, D3, D4, and D5. \n",
    "In order to count the number of possible hands, we count every possible card combination that could be in the hand.\n",
    "\n",
    "First we count DA,D2,D3,D4,D5 then DA,D2,D3,D4,D6 then DA,D2,D3,D4,D7 etc. until we reach DA,D2,D3,D4,SK\n",
    "\n",
    "Since we reached the end of the possiblities for the last card, the fourth card will be changed to the next card, which in our case is D5 and we will continue counting hands\n",
    "DA,D2,D3,D5,D6   DA,D2,D3,D5,D7     DA,D2,D3,D5,D8    DA,D2,D3,D5,D9 until DA,D2,D3,D5,SK\n",
    "\n",
    "We will do this for every card in the deck until we reach S9,S10,SJ,SQ,SK.\n",
    "\n",
    "The program simulates this mathematically through looping through number representations of the deck\n",
    "The program will loop 52 times for the possibilities of the first card, 51 times for the second card, 50 times for the third card, 49 times for the fourth card, and 48 times for the fifth card.\n",
    "\n",
    "This can also be represented by 52 choose 5 or $\\dfrac{!52}{(!5 \\cdot !(52-5))}$"
   ]
  },
  {
   "cell_type": "code",
   "execution_count": 39,
   "metadata": {},
   "outputs": [
    {
     "data": {
      "text/plain": [
       "2598960.0"
      ]
     },
     "execution_count": 39,
     "metadata": {},
     "output_type": "execute_result"
    }
   ],
   "source": [
    "math.factorial(52)/(math.factorial(5)*math.factorial(52-5))"
   ]
  },
  {
   "cell_type": "markdown",
   "metadata": {},
   "source": [
    "Now lets count the probability of each hand"
   ]
  },
  {
   "cell_type": "code",
   "execution_count": 61,
   "metadata": {},
   "outputs": [
    {
     "name": "stdout",
     "output_type": "stream",
     "text": [
      "1098240\n"
     ]
    }
   ],
   "source": [
    "hasPair = False\n",
    "moreThanOnePair = False\n",
    "pairHands = 0\n",
    "\n",
    "for hand in hands:\n",
    "    hand_without_0 = hand.replace('0', '')\n",
    "    for char in range(1,10,2):\n",
    "        for char2 in range(char+2,10,2):\n",
    "            if hand_without_0[char] == hand_without_0[char2] and hasPair:\n",
    "                moreThanOnePair = True\n",
    "                break\n",
    "            elif hand_without_0[char] == hand_without_0[char2]:\n",
    "                hasPair = True\n",
    "        if(moreThanOnePair):\n",
    "            break\n",
    "    if hasPair and not moreThanOnePair:\n",
    "        pairHands += 1\n",
    "    hasPair = False\n",
    "    moreThanOnePair = False\n",
    "\n",
    "print(pairHands)"
   ]
  },
  {
   "cell_type": "code",
   "execution_count": null,
   "metadata": {},
   "outputs": [],
   "source": []
  }
 ],
 "metadata": {
  "kernelspec": {
   "display_name": "Python 3",
   "language": "python",
   "name": "python3"
  },
  "language_info": {
   "codemirror_mode": {
    "name": "ipython",
    "version": 3
   },
   "file_extension": ".py",
   "mimetype": "text/x-python",
   "name": "python",
   "nbconvert_exporter": "python",
   "pygments_lexer": "ipython3",
   "version": "3.7.6"
  }
 },
 "nbformat": 4,
 "nbformat_minor": 4
}
